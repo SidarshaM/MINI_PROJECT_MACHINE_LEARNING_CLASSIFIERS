{
 "cells": [
  {
   "cell_type": "code",
   "execution_count": 81,
   "id": "222b0ca4-13df-4650-8687-f7c6d6fd5033",
   "metadata": {},
   "outputs": [],
   "source": [
    "#import necessary libraries\n",
    "import seaborn as sns\n",
    "import pandas as pd #for python data analysis\n",
    "import matplotlib.pyplot as plt#for visualization\n",
    "from sklearn.model_selection import train_test_split #for dividing test data and train data\n",
    "from sklearn.preprocessing import StandardScaler #for standardization\n",
    "from sklearn.preprocessing import LabelEncoder #for label encoding\n",
    "from sklearn.datasets import load_breast_cancer\n",
    "#IMPORTING DIFFERENT ML ALGORITHMS\n",
    "from sklearn.linear_model import LogisticRegression\n",
    "from sklearn.tree import DecisionTreeClassifier\n",
    "from sklearn.ensemble import RandomForestClassifier\n",
    "from sklearn.svm import SVC\n",
    "from sklearn.neighbors import KNeighborsClassifier\n",
    "from sklearn.metrics import accuracy_score, classification_report\n"
   ]
  },
  {
   "cell_type": "code",
   "execution_count": 82,
   "id": "3722fccd-a661-4777-a1c0-d00e5a1a775a",
   "metadata": {},
   "outputs": [],
   "source": [
    "#Loading dataset\n",
    "BC_data = load_breast_cancer()\n",
    "#returns a Bunch object, which is similar to a dictionary,\n",
    "#values to be accessed by key, bunch[\"value_key\"], or by an attribute, bunch.value_key."
   ]
  },
  {
   "cell_type": "code",
   "execution_count": 83,
   "id": "91cb3273-c137-4cd3-8317-43f212752943",
   "metadata": {},
   "outputs": [
    {
     "name": "stdout",
     "output_type": "stream",
     "text": [
      "Keys of the dataset: dict_keys(['data', 'target', 'frame', 'target_names', 'DESCR', 'feature_names', 'filename', 'data_module'])\n"
     ]
    }
   ],
   "source": [
    "print(\"Keys of the dataset:\", BC_data .keys())"
   ]
  },
  {
   "cell_type": "code",
   "execution_count": 84,
   "id": "354a55b5-c1c3-43e2-b7f8-fdcf05da197d",
   "metadata": {},
   "outputs": [
    {
     "name": "stdout",
     "output_type": "stream",
     "text": [
      "\n",
      "Feature Names: ['mean radius' 'mean texture' 'mean perimeter' 'mean area'\n",
      " 'mean smoothness' 'mean compactness' 'mean concavity'\n",
      " 'mean concave points' 'mean symmetry' 'mean fractal dimension'\n",
      " 'radius error' 'texture error' 'perimeter error' 'area error'\n",
      " 'smoothness error' 'compactness error' 'concavity error'\n",
      " 'concave points error' 'symmetry error' 'fractal dimension error'\n",
      " 'worst radius' 'worst texture' 'worst perimeter' 'worst area'\n",
      " 'worst smoothness' 'worst compactness' 'worst concavity'\n",
      " 'worst concave points' 'worst symmetry' 'worst fractal dimension']\n"
     ]
    }
   ],
   "source": [
    "print(\"\\nFeature Names:\", BC_data .feature_names)# Display the feature names"
   ]
  },
  {
   "cell_type": "code",
   "execution_count": 85,
   "id": "bbf8468c-0614-4335-93e8-be3feead5be2",
   "metadata": {},
   "outputs": [
    {
     "name": "stdout",
     "output_type": "stream",
     "text": [
      "\n",
      "Target Names: ['malignant' 'benign']\n"
     ]
    }
   ],
   "source": [
    "print(\"\\nTarget Names:\", BC_data.target_names)# Display the target names (classes)"
   ]
  },
  {
   "cell_type": "code",
   "execution_count": 86,
   "id": "96e46701-4c14-4c91-b212-78793986b776",
   "metadata": {},
   "outputs": [
    {
     "name": "stdout",
     "output_type": "stream",
     "text": [
      "\n",
      "Shape of data (features): (569, 30)\n"
     ]
    }
   ],
   "source": [
    "print(\"\\nShape of data (features):\", BC_data.data.shape)"
   ]
  },
  {
   "cell_type": "code",
   "execution_count": 87,
   "id": "7bff556d-a6eb-4959-afed-cff59b33c8f6",
   "metadata": {},
   "outputs": [
    {
     "name": "stdout",
     "output_type": "stream",
     "text": [
      "\n",
      "Shape of target (labels): (569,)\n"
     ]
    }
   ],
   "source": [
    "print(\"\\nShape of target (labels):\",BC_data.target.shape)"
   ]
  },
  {
   "cell_type": "code",
   "execution_count": 88,
   "id": "a794866a-f73f-4d01-beea-c002f31ea696",
   "metadata": {},
   "outputs": [
    {
     "data": {
      "text/html": [
       "<div>\n",
       "<style scoped>\n",
       "    .dataframe tbody tr th:only-of-type {\n",
       "        vertical-align: middle;\n",
       "    }\n",
       "\n",
       "    .dataframe tbody tr th {\n",
       "        vertical-align: top;\n",
       "    }\n",
       "\n",
       "    .dataframe thead th {\n",
       "        text-align: right;\n",
       "    }\n",
       "</style>\n",
       "<table border=\"1\" class=\"dataframe\">\n",
       "  <thead>\n",
       "    <tr style=\"text-align: right;\">\n",
       "      <th></th>\n",
       "      <th>mean radius</th>\n",
       "      <th>mean texture</th>\n",
       "      <th>mean perimeter</th>\n",
       "      <th>mean area</th>\n",
       "      <th>mean smoothness</th>\n",
       "      <th>mean compactness</th>\n",
       "      <th>mean concavity</th>\n",
       "      <th>mean concave points</th>\n",
       "      <th>mean symmetry</th>\n",
       "      <th>mean fractal dimension</th>\n",
       "      <th>...</th>\n",
       "      <th>worst radius</th>\n",
       "      <th>worst texture</th>\n",
       "      <th>worst perimeter</th>\n",
       "      <th>worst area</th>\n",
       "      <th>worst smoothness</th>\n",
       "      <th>worst compactness</th>\n",
       "      <th>worst concavity</th>\n",
       "      <th>worst concave points</th>\n",
       "      <th>worst symmetry</th>\n",
       "      <th>worst fractal dimension</th>\n",
       "    </tr>\n",
       "  </thead>\n",
       "  <tbody>\n",
       "    <tr>\n",
       "      <th>0</th>\n",
       "      <td>17.99</td>\n",
       "      <td>10.38</td>\n",
       "      <td>122.80</td>\n",
       "      <td>1001.0</td>\n",
       "      <td>0.11840</td>\n",
       "      <td>0.27760</td>\n",
       "      <td>0.30010</td>\n",
       "      <td>0.14710</td>\n",
       "      <td>0.2419</td>\n",
       "      <td>0.07871</td>\n",
       "      <td>...</td>\n",
       "      <td>25.380</td>\n",
       "      <td>17.33</td>\n",
       "      <td>184.60</td>\n",
       "      <td>2019.0</td>\n",
       "      <td>0.16220</td>\n",
       "      <td>0.66560</td>\n",
       "      <td>0.7119</td>\n",
       "      <td>0.2654</td>\n",
       "      <td>0.4601</td>\n",
       "      <td>0.11890</td>\n",
       "    </tr>\n",
       "    <tr>\n",
       "      <th>1</th>\n",
       "      <td>20.57</td>\n",
       "      <td>17.77</td>\n",
       "      <td>132.90</td>\n",
       "      <td>1326.0</td>\n",
       "      <td>0.08474</td>\n",
       "      <td>0.07864</td>\n",
       "      <td>0.08690</td>\n",
       "      <td>0.07017</td>\n",
       "      <td>0.1812</td>\n",
       "      <td>0.05667</td>\n",
       "      <td>...</td>\n",
       "      <td>24.990</td>\n",
       "      <td>23.41</td>\n",
       "      <td>158.80</td>\n",
       "      <td>1956.0</td>\n",
       "      <td>0.12380</td>\n",
       "      <td>0.18660</td>\n",
       "      <td>0.2416</td>\n",
       "      <td>0.1860</td>\n",
       "      <td>0.2750</td>\n",
       "      <td>0.08902</td>\n",
       "    </tr>\n",
       "    <tr>\n",
       "      <th>2</th>\n",
       "      <td>19.69</td>\n",
       "      <td>21.25</td>\n",
       "      <td>130.00</td>\n",
       "      <td>1203.0</td>\n",
       "      <td>0.10960</td>\n",
       "      <td>0.15990</td>\n",
       "      <td>0.19740</td>\n",
       "      <td>0.12790</td>\n",
       "      <td>0.2069</td>\n",
       "      <td>0.05999</td>\n",
       "      <td>...</td>\n",
       "      <td>23.570</td>\n",
       "      <td>25.53</td>\n",
       "      <td>152.50</td>\n",
       "      <td>1709.0</td>\n",
       "      <td>0.14440</td>\n",
       "      <td>0.42450</td>\n",
       "      <td>0.4504</td>\n",
       "      <td>0.2430</td>\n",
       "      <td>0.3613</td>\n",
       "      <td>0.08758</td>\n",
       "    </tr>\n",
       "    <tr>\n",
       "      <th>3</th>\n",
       "      <td>11.42</td>\n",
       "      <td>20.38</td>\n",
       "      <td>77.58</td>\n",
       "      <td>386.1</td>\n",
       "      <td>0.14250</td>\n",
       "      <td>0.28390</td>\n",
       "      <td>0.24140</td>\n",
       "      <td>0.10520</td>\n",
       "      <td>0.2597</td>\n",
       "      <td>0.09744</td>\n",
       "      <td>...</td>\n",
       "      <td>14.910</td>\n",
       "      <td>26.50</td>\n",
       "      <td>98.87</td>\n",
       "      <td>567.7</td>\n",
       "      <td>0.20980</td>\n",
       "      <td>0.86630</td>\n",
       "      <td>0.6869</td>\n",
       "      <td>0.2575</td>\n",
       "      <td>0.6638</td>\n",
       "      <td>0.17300</td>\n",
       "    </tr>\n",
       "    <tr>\n",
       "      <th>4</th>\n",
       "      <td>20.29</td>\n",
       "      <td>14.34</td>\n",
       "      <td>135.10</td>\n",
       "      <td>1297.0</td>\n",
       "      <td>0.10030</td>\n",
       "      <td>0.13280</td>\n",
       "      <td>0.19800</td>\n",
       "      <td>0.10430</td>\n",
       "      <td>0.1809</td>\n",
       "      <td>0.05883</td>\n",
       "      <td>...</td>\n",
       "      <td>22.540</td>\n",
       "      <td>16.67</td>\n",
       "      <td>152.20</td>\n",
       "      <td>1575.0</td>\n",
       "      <td>0.13740</td>\n",
       "      <td>0.20500</td>\n",
       "      <td>0.4000</td>\n",
       "      <td>0.1625</td>\n",
       "      <td>0.2364</td>\n",
       "      <td>0.07678</td>\n",
       "    </tr>\n",
       "    <tr>\n",
       "      <th>...</th>\n",
       "      <td>...</td>\n",
       "      <td>...</td>\n",
       "      <td>...</td>\n",
       "      <td>...</td>\n",
       "      <td>...</td>\n",
       "      <td>...</td>\n",
       "      <td>...</td>\n",
       "      <td>...</td>\n",
       "      <td>...</td>\n",
       "      <td>...</td>\n",
       "      <td>...</td>\n",
       "      <td>...</td>\n",
       "      <td>...</td>\n",
       "      <td>...</td>\n",
       "      <td>...</td>\n",
       "      <td>...</td>\n",
       "      <td>...</td>\n",
       "      <td>...</td>\n",
       "      <td>...</td>\n",
       "      <td>...</td>\n",
       "      <td>...</td>\n",
       "    </tr>\n",
       "    <tr>\n",
       "      <th>564</th>\n",
       "      <td>21.56</td>\n",
       "      <td>22.39</td>\n",
       "      <td>142.00</td>\n",
       "      <td>1479.0</td>\n",
       "      <td>0.11100</td>\n",
       "      <td>0.11590</td>\n",
       "      <td>0.24390</td>\n",
       "      <td>0.13890</td>\n",
       "      <td>0.1726</td>\n",
       "      <td>0.05623</td>\n",
       "      <td>...</td>\n",
       "      <td>25.450</td>\n",
       "      <td>26.40</td>\n",
       "      <td>166.10</td>\n",
       "      <td>2027.0</td>\n",
       "      <td>0.14100</td>\n",
       "      <td>0.21130</td>\n",
       "      <td>0.4107</td>\n",
       "      <td>0.2216</td>\n",
       "      <td>0.2060</td>\n",
       "      <td>0.07115</td>\n",
       "    </tr>\n",
       "    <tr>\n",
       "      <th>565</th>\n",
       "      <td>20.13</td>\n",
       "      <td>28.25</td>\n",
       "      <td>131.20</td>\n",
       "      <td>1261.0</td>\n",
       "      <td>0.09780</td>\n",
       "      <td>0.10340</td>\n",
       "      <td>0.14400</td>\n",
       "      <td>0.09791</td>\n",
       "      <td>0.1752</td>\n",
       "      <td>0.05533</td>\n",
       "      <td>...</td>\n",
       "      <td>23.690</td>\n",
       "      <td>38.25</td>\n",
       "      <td>155.00</td>\n",
       "      <td>1731.0</td>\n",
       "      <td>0.11660</td>\n",
       "      <td>0.19220</td>\n",
       "      <td>0.3215</td>\n",
       "      <td>0.1628</td>\n",
       "      <td>0.2572</td>\n",
       "      <td>0.06637</td>\n",
       "    </tr>\n",
       "    <tr>\n",
       "      <th>566</th>\n",
       "      <td>16.60</td>\n",
       "      <td>28.08</td>\n",
       "      <td>108.30</td>\n",
       "      <td>858.1</td>\n",
       "      <td>0.08455</td>\n",
       "      <td>0.10230</td>\n",
       "      <td>0.09251</td>\n",
       "      <td>0.05302</td>\n",
       "      <td>0.1590</td>\n",
       "      <td>0.05648</td>\n",
       "      <td>...</td>\n",
       "      <td>18.980</td>\n",
       "      <td>34.12</td>\n",
       "      <td>126.70</td>\n",
       "      <td>1124.0</td>\n",
       "      <td>0.11390</td>\n",
       "      <td>0.30940</td>\n",
       "      <td>0.3403</td>\n",
       "      <td>0.1418</td>\n",
       "      <td>0.2218</td>\n",
       "      <td>0.07820</td>\n",
       "    </tr>\n",
       "    <tr>\n",
       "      <th>567</th>\n",
       "      <td>20.60</td>\n",
       "      <td>29.33</td>\n",
       "      <td>140.10</td>\n",
       "      <td>1265.0</td>\n",
       "      <td>0.11780</td>\n",
       "      <td>0.27700</td>\n",
       "      <td>0.35140</td>\n",
       "      <td>0.15200</td>\n",
       "      <td>0.2397</td>\n",
       "      <td>0.07016</td>\n",
       "      <td>...</td>\n",
       "      <td>25.740</td>\n",
       "      <td>39.42</td>\n",
       "      <td>184.60</td>\n",
       "      <td>1821.0</td>\n",
       "      <td>0.16500</td>\n",
       "      <td>0.86810</td>\n",
       "      <td>0.9387</td>\n",
       "      <td>0.2650</td>\n",
       "      <td>0.4087</td>\n",
       "      <td>0.12400</td>\n",
       "    </tr>\n",
       "    <tr>\n",
       "      <th>568</th>\n",
       "      <td>7.76</td>\n",
       "      <td>24.54</td>\n",
       "      <td>47.92</td>\n",
       "      <td>181.0</td>\n",
       "      <td>0.05263</td>\n",
       "      <td>0.04362</td>\n",
       "      <td>0.00000</td>\n",
       "      <td>0.00000</td>\n",
       "      <td>0.1587</td>\n",
       "      <td>0.05884</td>\n",
       "      <td>...</td>\n",
       "      <td>9.456</td>\n",
       "      <td>30.37</td>\n",
       "      <td>59.16</td>\n",
       "      <td>268.6</td>\n",
       "      <td>0.08996</td>\n",
       "      <td>0.06444</td>\n",
       "      <td>0.0000</td>\n",
       "      <td>0.0000</td>\n",
       "      <td>0.2871</td>\n",
       "      <td>0.07039</td>\n",
       "    </tr>\n",
       "  </tbody>\n",
       "</table>\n",
       "<p>569 rows × 30 columns</p>\n",
       "</div>"
      ],
      "text/plain": [
       "     mean radius  mean texture  mean perimeter  mean area  mean smoothness  \\\n",
       "0          17.99         10.38          122.80     1001.0          0.11840   \n",
       "1          20.57         17.77          132.90     1326.0          0.08474   \n",
       "2          19.69         21.25          130.00     1203.0          0.10960   \n",
       "3          11.42         20.38           77.58      386.1          0.14250   \n",
       "4          20.29         14.34          135.10     1297.0          0.10030   \n",
       "..           ...           ...             ...        ...              ...   \n",
       "564        21.56         22.39          142.00     1479.0          0.11100   \n",
       "565        20.13         28.25          131.20     1261.0          0.09780   \n",
       "566        16.60         28.08          108.30      858.1          0.08455   \n",
       "567        20.60         29.33          140.10     1265.0          0.11780   \n",
       "568         7.76         24.54           47.92      181.0          0.05263   \n",
       "\n",
       "     mean compactness  mean concavity  mean concave points  mean symmetry  \\\n",
       "0             0.27760         0.30010              0.14710         0.2419   \n",
       "1             0.07864         0.08690              0.07017         0.1812   \n",
       "2             0.15990         0.19740              0.12790         0.2069   \n",
       "3             0.28390         0.24140              0.10520         0.2597   \n",
       "4             0.13280         0.19800              0.10430         0.1809   \n",
       "..                ...             ...                  ...            ...   \n",
       "564           0.11590         0.24390              0.13890         0.1726   \n",
       "565           0.10340         0.14400              0.09791         0.1752   \n",
       "566           0.10230         0.09251              0.05302         0.1590   \n",
       "567           0.27700         0.35140              0.15200         0.2397   \n",
       "568           0.04362         0.00000              0.00000         0.1587   \n",
       "\n",
       "     mean fractal dimension  ...  worst radius  worst texture  \\\n",
       "0                   0.07871  ...        25.380          17.33   \n",
       "1                   0.05667  ...        24.990          23.41   \n",
       "2                   0.05999  ...        23.570          25.53   \n",
       "3                   0.09744  ...        14.910          26.50   \n",
       "4                   0.05883  ...        22.540          16.67   \n",
       "..                      ...  ...           ...            ...   \n",
       "564                 0.05623  ...        25.450          26.40   \n",
       "565                 0.05533  ...        23.690          38.25   \n",
       "566                 0.05648  ...        18.980          34.12   \n",
       "567                 0.07016  ...        25.740          39.42   \n",
       "568                 0.05884  ...         9.456          30.37   \n",
       "\n",
       "     worst perimeter  worst area  worst smoothness  worst compactness  \\\n",
       "0             184.60      2019.0           0.16220            0.66560   \n",
       "1             158.80      1956.0           0.12380            0.18660   \n",
       "2             152.50      1709.0           0.14440            0.42450   \n",
       "3              98.87       567.7           0.20980            0.86630   \n",
       "4             152.20      1575.0           0.13740            0.20500   \n",
       "..               ...         ...               ...                ...   \n",
       "564           166.10      2027.0           0.14100            0.21130   \n",
       "565           155.00      1731.0           0.11660            0.19220   \n",
       "566           126.70      1124.0           0.11390            0.30940   \n",
       "567           184.60      1821.0           0.16500            0.86810   \n",
       "568            59.16       268.6           0.08996            0.06444   \n",
       "\n",
       "     worst concavity  worst concave points  worst symmetry  \\\n",
       "0             0.7119                0.2654          0.4601   \n",
       "1             0.2416                0.1860          0.2750   \n",
       "2             0.4504                0.2430          0.3613   \n",
       "3             0.6869                0.2575          0.6638   \n",
       "4             0.4000                0.1625          0.2364   \n",
       "..               ...                   ...             ...   \n",
       "564           0.4107                0.2216          0.2060   \n",
       "565           0.3215                0.1628          0.2572   \n",
       "566           0.3403                0.1418          0.2218   \n",
       "567           0.9387                0.2650          0.4087   \n",
       "568           0.0000                0.0000          0.2871   \n",
       "\n",
       "     worst fractal dimension  \n",
       "0                    0.11890  \n",
       "1                    0.08902  \n",
       "2                    0.08758  \n",
       "3                    0.17300  \n",
       "4                    0.07678  \n",
       "..                       ...  \n",
       "564                  0.07115  \n",
       "565                  0.06637  \n",
       "566                  0.07820  \n",
       "567                  0.12400  \n",
       "568                  0.07039  \n",
       "\n",
       "[569 rows x 30 columns]"
      ]
     },
     "execution_count": 88,
     "metadata": {},
     "output_type": "execute_result"
    }
   ],
   "source": [
    "data_df = pd.DataFrame(data = BC_data.data,columns = BC_data.feature_names)\n",
    "data_df"
   ]
  },
  {
   "cell_type": "code",
   "execution_count": 89,
   "id": "711ef59b-dc13-463c-b40f-87a02b3eae07",
   "metadata": {},
   "outputs": [
    {
     "name": "stdout",
     "output_type": "stream",
     "text": [
      "No missing values detected.\n"
     ]
    },
    {
     "data": {
      "text/plain": [
       "[]"
      ]
     },
     "execution_count": 89,
     "metadata": {},
     "output_type": "execute_result"
    }
   ],
   "source": [
    "#PREPROCESSING STEPS\n",
    "\n",
    "\"\"\"Handling missing values: Missing values can affect the accuracy of machine learning models.\n",
    "Handling missing values helps to ensure that the models are trained on complete data \n",
    "can be handled using folllwing methods isnull(),dropna(inplace=True),fillna()\"\"\"\n",
    "# Check for missing values\n",
    "#print(data_df.isnull().sum())  # Sum of missing values per column\n",
    "if data_df.isnull().sum().sum() == 0:     #total sum of missing values\n",
    "    print(\"No missing values detected.\")\n",
    "\n",
    "[ ]\n"
   ]
  },
  {
   "cell_type": "code",
   "execution_count": 90,
   "id": "5266d01b-3db6-4e39-8ff7-57ba680572b3",
   "metadata": {},
   "outputs": [
    {
     "name": "stdout",
     "output_type": "stream",
     "text": [
      "       mean radius  mean texture  mean perimeter    mean area  \\\n",
      "count   569.000000    569.000000      569.000000   569.000000   \n",
      "mean     14.127292     19.289649       91.969033   654.889104   \n",
      "std       3.524049      4.301036       24.298981   351.914129   \n",
      "min       6.981000      9.710000       43.790000   143.500000   \n",
      "25%      11.700000     16.170000       75.170000   420.300000   \n",
      "50%      13.370000     18.840000       86.240000   551.100000   \n",
      "75%      15.780000     21.800000      104.100000   782.700000   \n",
      "max      28.110000     39.280000      188.500000  2501.000000   \n",
      "\n",
      "       mean smoothness  mean compactness  mean concavity  mean concave points  \\\n",
      "count       569.000000        569.000000      569.000000           569.000000   \n",
      "mean          0.096360          0.104341        0.088799             0.048919   \n",
      "std           0.014064          0.052813        0.079720             0.038803   \n",
      "min           0.052630          0.019380        0.000000             0.000000   \n",
      "25%           0.086370          0.064920        0.029560             0.020310   \n",
      "50%           0.095870          0.092630        0.061540             0.033500   \n",
      "75%           0.105300          0.130400        0.130700             0.074000   \n",
      "max           0.163400          0.345400        0.426800             0.201200   \n",
      "\n",
      "       mean symmetry  mean fractal dimension  ...  worst radius  \\\n",
      "count     569.000000              569.000000  ...    569.000000   \n",
      "mean        0.181162                0.062798  ...     16.269190   \n",
      "std         0.027414                0.007060  ...      4.833242   \n",
      "min         0.106000                0.049960  ...      7.930000   \n",
      "25%         0.161900                0.057700  ...     13.010000   \n",
      "50%         0.179200                0.061540  ...     14.970000   \n",
      "75%         0.195700                0.066120  ...     18.790000   \n",
      "max         0.304000                0.097440  ...     36.040000   \n",
      "\n",
      "       worst texture  worst perimeter   worst area  worst smoothness  \\\n",
      "count     569.000000       569.000000   569.000000        569.000000   \n",
      "mean       25.677223       107.261213   880.583128          0.132369   \n",
      "std         6.146258        33.602542   569.356993          0.022832   \n",
      "min        12.020000        50.410000   185.200000          0.071170   \n",
      "25%        21.080000        84.110000   515.300000          0.116600   \n",
      "50%        25.410000        97.660000   686.500000          0.131300   \n",
      "75%        29.720000       125.400000  1084.000000          0.146000   \n",
      "max        49.540000       251.200000  4254.000000          0.222600   \n",
      "\n",
      "       worst compactness  worst concavity  worst concave points  \\\n",
      "count         569.000000       569.000000            569.000000   \n",
      "mean            0.254265         0.272188              0.114606   \n",
      "std             0.157336         0.208624              0.065732   \n",
      "min             0.027290         0.000000              0.000000   \n",
      "25%             0.147200         0.114500              0.064930   \n",
      "50%             0.211900         0.226700              0.099930   \n",
      "75%             0.339100         0.382900              0.161400   \n",
      "max             1.058000         1.252000              0.291000   \n",
      "\n",
      "       worst symmetry  worst fractal dimension  \n",
      "count      569.000000               569.000000  \n",
      "mean         0.290076                 0.083946  \n",
      "std          0.061867                 0.018061  \n",
      "min          0.156500                 0.055040  \n",
      "25%          0.250400                 0.071460  \n",
      "50%          0.282200                 0.080040  \n",
      "75%          0.317900                 0.092080  \n",
      "max          0.663800                 0.207500  \n",
      "\n",
      "[8 rows x 30 columns]\n"
     ]
    }
   ],
   "source": [
    "# Display basic statistics to understand feature distribution\n",
    "print(data_df.describe())"
   ]
  },
  {
   "cell_type": "code",
   "execution_count": 91,
   "id": "07bfa0fe-322b-410c-9dc7-feb52c171082",
   "metadata": {},
   "outputs": [],
   "source": [
    "data_df = pd.DataFrame(BC_data.data, columns=BC_data.feature_names)  #Converts the BC_data.data array into a Pandas DataFrame for easier manipulation.\n",
    "data_df['target'] = BC_data.target                                   #Adds the target column (data.target) to the DataFrame as a new column called 'target'\n",
    "x=data_df.drop('target', axis=1)                                     # x->features\n",
    "y=data_df['target']                                                  #y = pd.Series(data.target)   y->target                                   # x->features"
   ]
  },
  {
   "cell_type": "code",
   "execution_count": 92,
   "id": "7afd3a16-b34c-4171-beab-1dbb2929cbbe",
   "metadata": {},
   "outputs": [
    {
     "data": {
      "text/plain": [
       "'\"Splitting the dataset into training and testing sets helps to evaluate the performance of the machine learning models. This ensures that the models are generalizing well to unseen data.\\n\\n X_train, X_test, y_train, y_test = train_test_split(df.drop(\\'target\\', axis=1), df[\\'target\\'], test_size=0.2, random_state=42)'"
      ]
     },
     "execution_count": 92,
     "metadata": {},
     "output_type": "execute_result"
    }
   ],
   "source": [
    "#3.Data split:\n",
    "\n",
    "\"\"\"\"Splitting the dataset into training and testing sets helps to evaluate the performance of the machine learning models. This ensures that the models are generalizing well to unseen data.\n",
    "\n",
    " X_train, X_test, y_train, y_test = train_test_split(df.drop('target', axis=1), df['target'], test_size=0.2, random_state=42)\"\"\""
   ]
  },
  {
   "cell_type": "code",
   "execution_count": 93,
   "id": "e37eab0f-f244-4f56-a129-d43a13cb120a",
   "metadata": {},
   "outputs": [
    {
     "name": "stdout",
     "output_type": "stream",
     "text": [
      "Training Features Shape: (455, 30)\n",
      "Testing Features Shape: (114, 30)\n",
      "Training Target Shape: (455,)\n",
      "Testing Target Shape: (114,)\n"
     ]
    }
   ],
   "source": [
    "x_train, x_test, y_train, y_test = train_test_split(x,y,test_size=0.2,random_state=42) #splitting data for training and testing\n",
    "# Print the shapes of the resulting datasets\n",
    "print(\"Training Features Shape:\", x_train.shape)\n",
    "print(\"Testing Features Shape:\", x_test.shape)\n",
    "print(\"Training Target Shape:\", y_train.shape)\n",
    "print(\"Testing Target Shape:\", y_test.shape)"
   ]
  },
  {
   "cell_type": "code",
   "execution_count": 94,
   "id": "27ddeb08-f594-465d-9a71-6dfe4247e84e",
   "metadata": {},
   "outputs": [
    {
     "data": {
      "text/plain": [
       "\"Scaling the features helps to prevent features with large ranges from dominating the model.\\nThis ensures that all features are treated equally by the model.\\nsc = StandardScaler()\\ndf[['column_name']] = sc.fit_transform(df[['column_name']])\""
      ]
     },
     "execution_count": 94,
     "metadata": {},
     "output_type": "execute_result"
    }
   ],
   "source": [
    "#2.Data scaling: \n",
    "\n",
    "\"\"\"Scaling the features helps to prevent features with large ranges from dominating the model.\n",
    "This ensures that all features are treated equally by the model.\n",
    "sc = StandardScaler()\n",
    "df[['column_name']] = sc.fit_transform(df[['column_name']])\"\"\"\n"
   ]
  },
  {
   "cell_type": "code",
   "execution_count": 95,
   "id": "75195f57-8bc7-41fb-b531-b0e2664186b5",
   "metadata": {},
   "outputs": [
    {
     "name": "stdout",
     "output_type": "stream",
     "text": [
      "Training set shape: (455, 30)\n",
      "Testing set shape: (114, 30)\n"
     ]
    }
   ],
   "source": [
    "scaler = StandardScaler()\n",
    "X_train_scaled = scaler.fit_transform(x_train)  # Fit and transform on training set\n",
    "X_test_scaled = scaler.transform(x_test)       # Transform only on test set (using training scaler)\n",
    "\n",
    "# Output shapes for verification\n",
    "print(\"Training set shape:\", X_train_scaled.shape)\n",
    "print(\"Testing set shape:\", X_test_scaled.shape)\n"
   ]
  },
  {
   "cell_type": "code",
   "execution_count": 96,
   "id": "1fa2314b-1de1-4565-aff0-40593c1f940e",
   "metadata": {},
   "outputs": [
    {
     "data": {
      "text/plain": [
       "'Transforming categorical variables into numerical variables helps to ensure that the machine learning models can handle them correctly. One-hot encoding:\\n\\nUse the get_dummies function\\n or\\nLabel encoding: Use the LabelEncoder from scikit-learn'"
      ]
     },
     "execution_count": 96,
     "metadata": {},
     "output_type": "execute_result"
    }
   ],
   "source": [
    "#4Data transformation:\n",
    "\n",
    "\"\"\"Transforming categorical variables into numerical variables helps to ensure that the machine learning models can handle them correctly. One-hot encoding:\n",
    "\n",
    "Use the get_dummies function\n",
    " or\n",
    "Label encoding: Use the LabelEncoder from scikit-learn\"\"\""
   ]
  },
  {
   "cell_type": "code",
   "execution_count": 97,
   "id": "d2045060-20a9-4602-99b7-c92f90b97390",
   "metadata": {},
   "outputs": [
    {
     "data": {
      "text/plain": [
       "0      0\n",
       "1      0\n",
       "2      0\n",
       "3      0\n",
       "4      0\n",
       "      ..\n",
       "564    0\n",
       "565    0\n",
       "566    0\n",
       "567    0\n",
       "568    1\n",
       "Name: target, Length: 569, dtype: int32"
      ]
     },
     "execution_count": 97,
     "metadata": {},
     "output_type": "execute_result"
    }
   ],
   "source": [
    "y\n",
    "# Target Variable: No processing is required as it is already in numeric binary form (0 and 1). no categorical value\n",
    "#le = LabelEncoder()\n",
    "#data_df['target'] = le.fit_transform(data_df['target'])\n",
    "#data_df['target']"
   ]
  },
  {
   "cell_type": "code",
   "execution_count": 98,
   "id": "39d4c370-4cbb-4873-8c87-155df7f74b47",
   "metadata": {},
   "outputs": [
    {
     "data": {
      "text/plain": [
       "\" ** Machine Learning Algorithms to Implement**:\\n\\n1.Logistic Regression\\n\\nLogistic Regression is a suitable algorithm for this dataset because it's a binary classification problem,\\nand Logistic Regression is a popular choice for binary classification tasks.\\n\""
      ]
     },
     "execution_count": 98,
     "metadata": {},
     "output_type": "execute_result"
    }
   ],
   "source": [
    "\"\"\" ** Machine Learning Algorithms to Implement**:\n",
    "\n",
    "1.Logistic Regression\n",
    "\n",
    "Logistic Regression is a suitable algorithm for this dataset because it's a binary classification problem,\n",
    "and Logistic Regression is a popular choice for binary classification tasks.\n",
    "\"\"\""
   ]
  },
  {
   "cell_type": "code",
   "execution_count": 99,
   "id": "1b5d5b64-0499-4120-8874-736f88fd3041",
   "metadata": {},
   "outputs": [
    {
     "data": {
      "text/plain": [
       "array([1, 0, 0, 1, 1, 0, 0, 0, 1, 1, 1, 0, 1, 0, 1, 0, 1, 1, 1, 0, 1, 1,\n",
       "       0, 1, 1, 1, 1, 1, 1, 0, 1, 1, 1, 1, 1, 1, 0, 1, 0, 1, 1, 0, 1, 1,\n",
       "       1, 1, 1, 1, 1, 1, 0, 0, 1, 1, 1, 1, 1, 0, 0, 1, 1, 0, 0, 1, 1, 1,\n",
       "       0, 0, 1, 1, 0, 0, 1, 0, 1, 1, 1, 1, 1, 1, 0, 1, 0, 0, 0, 0, 0, 0,\n",
       "       1, 1, 1, 1, 1, 1, 1, 1, 0, 0, 1, 0, 0, 1, 0, 0, 1, 1, 1, 0, 1, 1,\n",
       "       0, 1, 0, 0])"
      ]
     },
     "execution_count": 99,
     "metadata": {},
     "output_type": "execute_result"
    }
   ],
   "source": [
    "# Implement Logistic Regression\n",
    "lr = LogisticRegression()# Initialization\n",
    "lr.fit(X_train_scaled, y_train)\n",
    "y_pred_LR = lr.predict(X_test_scaled)\n",
    "y_pred_LR"
   ]
  },
  {
   "cell_type": "code",
   "execution_count": 100,
   "id": "85493570-cd5f-4226-9c61-fc0ac0dfe51a",
   "metadata": {},
   "outputs": [
    {
     "data": {
      "text/plain": [
       "'Captures non-linear relationships, interpretable via tree visualization.\\nDecision Tree Classifier is a suitable algorithm for this dataset because it can handle high-dimensional data and is robust to outliers.'"
      ]
     },
     "execution_count": 100,
     "metadata": {},
     "output_type": "execute_result"
    }
   ],
   "source": [
    "#2.Decision Tree Classifier\n",
    "\n",
    "\"\"\"Captures non-linear relationships, interpretable via tree visualization.\n",
    "Decision Tree Classifier is a suitable algorithm for this dataset because it can handle high-dimensional data and is robust to outliers.\"\"\""
   ]
  },
  {
   "cell_type": "code",
   "execution_count": 101,
   "id": "53379c67-a943-4ae4-b36c-0839a15933f6",
   "metadata": {},
   "outputs": [
    {
     "data": {
      "text/plain": [
       "array([1, 0, 0, 1, 1, 0, 0, 0, 0, 1, 1, 0, 1, 0, 1, 0, 1, 1, 1, 0, 1, 1,\n",
       "       0, 1, 1, 1, 1, 1, 1, 0, 1, 1, 1, 1, 1, 1, 0, 1, 0, 1, 1, 0, 1, 1,\n",
       "       1, 1, 0, 1, 1, 1, 0, 0, 1, 1, 1, 1, 1, 0, 0, 1, 1, 0, 0, 1, 1, 1,\n",
       "       0, 0, 1, 1, 0, 0, 1, 0, 1, 1, 1, 1, 1, 1, 0, 1, 1, 0, 0, 0, 0, 0,\n",
       "       1, 1, 1, 1, 1, 1, 1, 1, 0, 0, 1, 0, 0, 1, 0, 0, 1, 1, 1, 0, 0, 1,\n",
       "       0, 1, 1, 0])"
      ]
     },
     "execution_count": 101,
     "metadata": {},
     "output_type": "execute_result"
    }
   ],
   "source": [
    "# Implement Decision Tree Classifier\n",
    "dt = DecisionTreeClassifier(random_state=42)\n",
    "dt.fit(X_train_scaled, y_train)\n",
    "y_pred_DT = dt.predict(X_test_scaled)\n",
    "y_pred_DT"
   ]
  },
  {
   "cell_type": "code",
   "execution_count": 102,
   "id": "80e01014-99cc-4019-be48-fde7e314e02b",
   "metadata": {},
   "outputs": [
    {
     "data": {
      "text/plain": [
       "'An ensemble of decision trees, handles overfitting better than single trees. \\nRandom Forest Classifier is a suitable algorithm for this dataset because it can handle high-dimensional data, is robust to outliers, and can reduce overfitting.\\n\\n'"
      ]
     },
     "execution_count": 102,
     "metadata": {},
     "output_type": "execute_result"
    }
   ],
   "source": [
    "#3.Random Forest Classifier\n",
    "\n",
    "\"\"\"An ensemble of decision trees, handles overfitting better than single trees. \n",
    "Random Forest Classifier is a suitable algorithm for this dataset because it can handle high-dimensional data, is robust to outliers, and can reduce overfitting.\n",
    "\n",
    "\"\"\"\n"
   ]
  },
  {
   "cell_type": "code",
   "execution_count": 103,
   "id": "2723d61b-9e13-40ce-9a45-39c44f01d37b",
   "metadata": {},
   "outputs": [
    {
     "data": {
      "text/plain": [
       "array([1, 0, 0, 1, 1, 0, 0, 0, 0, 1, 1, 0, 1, 0, 1, 0, 1, 1, 1, 0, 1, 1,\n",
       "       0, 1, 1, 1, 1, 1, 1, 0, 1, 1, 1, 1, 1, 1, 0, 1, 0, 1, 1, 0, 1, 1,\n",
       "       1, 1, 1, 1, 1, 1, 0, 0, 1, 1, 1, 1, 1, 0, 0, 1, 1, 0, 0, 1, 1, 1,\n",
       "       0, 0, 1, 1, 0, 0, 1, 0, 1, 1, 1, 1, 1, 1, 0, 1, 1, 0, 0, 0, 0, 0,\n",
       "       1, 1, 1, 1, 1, 1, 1, 1, 0, 0, 1, 0, 0, 1, 0, 0, 1, 1, 1, 0, 1, 1,\n",
       "       0, 1, 1, 0])"
      ]
     },
     "execution_count": 103,
     "metadata": {},
     "output_type": "execute_result"
    }
   ],
   "source": [
    "# Implement Random Forest Classifier\n",
    "rf = RandomForestClassifier(n_estimators=100, random_state=42)\n",
    "rf.fit(X_train_scaled, y_train)\n",
    "y_pred_RF = rf.predict(X_test_scaled)\n",
    "y_pred_RF"
   ]
  },
  {
   "cell_type": "code",
   "execution_count": 104,
   "id": "68e9c723-e729-47db-99f7-5128e014ded3",
   "metadata": {},
   "outputs": [
    {
     "data": {
      "text/plain": [
       "'Effective for high-dimensional spaces, works well with clear margins of separation.\\nSVM is a suitable algorithm for this dataset because it can handle high-dimensional data and is robust to outliers.'"
      ]
     },
     "execution_count": 104,
     "metadata": {},
     "output_type": "execute_result"
    }
   ],
   "source": [
    "#4.Support Vector Machine (SVM)\n",
    "\n",
    "\"\"\"Effective for high-dimensional spaces, works well with clear margins of separation.\n",
    "SVM is a suitable algorithm for this dataset because it can handle high-dimensional data and is robust to outliers.\"\"\""
   ]
  },
  {
   "cell_type": "code",
   "execution_count": 105,
   "id": "a1a81e10-07f6-422a-acca-3d0481f6c5b0",
   "metadata": {},
   "outputs": [
    {
     "data": {
      "text/plain": [
       "array([1, 0, 0, 1, 1, 0, 0, 0, 0, 1, 1, 0, 1, 0, 1, 0, 1, 1, 1, 0, 1, 1,\n",
       "       0, 1, 1, 1, 1, 1, 1, 0, 1, 1, 1, 1, 1, 1, 0, 1, 0, 1, 1, 0, 1, 1,\n",
       "       1, 1, 1, 1, 1, 1, 0, 0, 0, 1, 1, 1, 1, 0, 0, 1, 1, 0, 0, 1, 1, 1,\n",
       "       0, 0, 1, 1, 0, 0, 1, 0, 1, 1, 1, 1, 1, 1, 0, 1, 0, 0, 0, 0, 0, 0,\n",
       "       1, 1, 1, 1, 1, 1, 1, 1, 0, 0, 1, 0, 0, 1, 0, 0, 1, 1, 1, 0, 1, 1,\n",
       "       0, 1, 0, 0])"
      ]
     },
     "execution_count": 105,
     "metadata": {},
     "output_type": "execute_result"
    }
   ],
   "source": [
    "# Implement Support Vector Machine (SVM)\n",
    "svm = SVC(kernel='linear', probability=True)\n",
    "svm.fit(X_train_scaled, y_train)\n",
    "y_pred_SVM = svm.predict(X_test_scaled)\n",
    "y_pred_SVM"
   ]
  },
  {
   "cell_type": "code",
   "execution_count": 106,
   "id": "d762393e-6e0d-4d5b-a8a9-cc04e5715512",
   "metadata": {},
   "outputs": [
    {
     "data": {
      "text/plain": [
       "\"** 5.k-Nearest Neighbors (k-NN)**\\n\\nA non-parametric approach, works well when the decision boundary is irregular k-NN is a suitable algorithm for this dataset because it's a simple and intuitive algorithm that can handle high-dimensional data.\""
      ]
     },
     "execution_count": 106,
     "metadata": {},
     "output_type": "execute_result"
    }
   ],
   "source": [
    "\"\"\"** 5.k-Nearest Neighbors (k-NN)**\n",
    "\n",
    "A non-parametric approach, works well when the decision boundary is irregular k-NN is a suitable algorithm for this dataset because it's a simple and intuitive algorithm that can handle high-dimensional data.\"\"\""
   ]
  },
  {
   "cell_type": "code",
   "execution_count": 107,
   "id": "0da53783-07e3-47b3-883d-6687971bc9de",
   "metadata": {},
   "outputs": [
    {
     "data": {
      "text/plain": [
       "array([1, 0, 0, 1, 1, 0, 0, 0, 0, 1, 1, 0, 1, 1, 1, 0, 1, 1, 1, 0, 1, 1,\n",
       "       0, 1, 1, 1, 1, 1, 1, 0, 1, 1, 1, 1, 1, 1, 0, 1, 0, 1, 1, 0, 1, 1,\n",
       "       1, 1, 1, 1, 1, 1, 0, 0, 0, 1, 1, 1, 1, 0, 0, 1, 1, 0, 0, 1, 1, 1,\n",
       "       0, 0, 1, 1, 0, 0, 1, 0, 1, 1, 1, 1, 1, 1, 0, 1, 0, 0, 0, 0, 0, 0,\n",
       "       1, 1, 1, 0, 1, 1, 1, 1, 0, 0, 1, 0, 0, 1, 0, 0, 1, 1, 1, 0, 1, 1,\n",
       "       0, 1, 1, 0])"
      ]
     },
     "execution_count": 107,
     "metadata": {},
     "output_type": "execute_result"
    }
   ],
   "source": [
    "# Implement k-Nearest Neighbors (k-NN)\n",
    "knn = KNeighborsClassifier(n_neighbors=5)\n",
    "knn.fit(X_train_scaled, y_train)\n",
    "y_pred_KNN = knn.predict(X_test_scaled)\n",
    "y_pred_KNN"
   ]
  },
  {
   "cell_type": "code",
   "execution_count": 108,
   "id": "0b017690-dcd1-4f1c-936e-bb76a6b0a666",
   "metadata": {},
   "outputs": [],
   "source": [
    "#Model Comparison"
   ]
  },
  {
   "cell_type": "code",
   "execution_count": 109,
   "id": "809b04ae-0387-4485-a6a7-6f5301fc3cc9",
   "metadata": {},
   "outputs": [
    {
     "name": "stdout",
     "output_type": "stream",
     "text": [
      "\n",
      "\n",
      "************************************************************************\n",
      "\n",
      "\tLogistic Regression:\n",
      "\n",
      "Accuracy: 0.9736842105263158\n",
      "Classification Report:\n",
      "              precision    recall  f1-score   support\n",
      "\n",
      "           0       0.98      0.95      0.96        43\n",
      "           1       0.97      0.99      0.98        71\n",
      "\n",
      "    accuracy                           0.97       114\n",
      "   macro avg       0.97      0.97      0.97       114\n",
      "weighted avg       0.97      0.97      0.97       114\n",
      "\n",
      "\n",
      "************************************************************************\n",
      "\n",
      "\tDecision Tree Classifier:\n",
      "Accuracy: 0.9473684210526315\n",
      "Classification Report:\n",
      "              precision    recall  f1-score   support\n",
      "\n",
      "           0       0.93      0.93      0.93        43\n",
      "           1       0.96      0.96      0.96        71\n",
      "\n",
      "    accuracy                           0.95       114\n",
      "   macro avg       0.94      0.94      0.94       114\n",
      "weighted avg       0.95      0.95      0.95       114\n",
      "\n",
      "\n",
      "************************************************************************\n",
      "\n",
      "\tRandom Forest Classifier:\n",
      "\n",
      "Accuracy: 0.9649122807017544\n",
      "Classification Report:\n",
      "              precision    recall  f1-score   support\n",
      "\n",
      "           0       0.98      0.93      0.95        43\n",
      "           1       0.96      0.99      0.97        71\n",
      "\n",
      "    accuracy                           0.96       114\n",
      "   macro avg       0.97      0.96      0.96       114\n",
      "weighted avg       0.97      0.96      0.96       114\n",
      "\n",
      "\n",
      "************************************************************************\n",
      "\n",
      "\tSupport Vector Machine (SVM):\n",
      "\n",
      "Accuracy: 0.956140350877193\n",
      "Classification Report:\n",
      "              precision    recall  f1-score   support\n",
      "\n",
      "           0       0.93      0.95      0.94        43\n",
      "           1       0.97      0.96      0.96        71\n",
      "\n",
      "    accuracy                           0.96       114\n",
      "   macro avg       0.95      0.96      0.95       114\n",
      "weighted avg       0.96      0.96      0.96       114\n",
      "\n",
      "\n",
      "************************************************************************\n",
      "\n",
      "\tnk-Nearest Neighbors (k-NN):\n",
      "\n",
      "Accuracy: 0.9473684210526315\n",
      "Classification Report:\n",
      "              precision    recall  f1-score   support\n",
      "\n",
      "           0       0.93      0.93      0.93        43\n",
      "           1       0.96      0.96      0.96        71\n",
      "\n",
      "    accuracy                           0.95       114\n",
      "   macro avg       0.94      0.94      0.94       114\n",
      "weighted avg       0.95      0.95      0.95       114\n",
      "\n"
     ]
    }
   ],
   "source": [
    "# Compare the performance of the five classification algorithms\n",
    "print(\"\\n\\n************************************************************************\\n\")\n",
    "print(\"\\tLogistic Regression:\\n\")\n",
    "print(\"Accuracy:\", accuracy_score(y_test, y_pred_LR))\n",
    "print(\"Classification Report:\")\n",
    "print(classification_report(y_test, y_pred_LR))\n",
    "print(\"\\n************************************************************************\\n\")\n",
    "print(\"\\tDecision Tree Classifier:\")\n",
    "print(\"Accuracy:\", accuracy_score(y_test, y_pred_DT))\n",
    "print(\"Classification Report:\")\n",
    "print(classification_report(y_test, y_pred_DT))\n",
    "print(\"\\n************************************************************************\\n\")\n",
    "print(\"\\tRandom Forest Classifier:\\n\")\n",
    "print(\"Accuracy:\", accuracy_score(y_test, y_pred_RF))\n",
    "print(\"Classification Report:\")\n",
    "print(classification_report(y_test, y_pred_RF))\n",
    "print(\"\\n************************************************************************\\n\")\n",
    "print(\"\\tSupport Vector Machine (SVM):\\n\")\n",
    "print(\"Accuracy:\", accuracy_score(y_test, y_pred_SVM))\n",
    "print(\"Classification Report:\")\n",
    "print(classification_report(y_test, y_pred_SVM))\n",
    "print(\"\\n************************************************************************\\n\")\n",
    "print(\"\\tnk-Nearest Neighbors (k-NN):\\n\")\n",
    "print(\"Accuracy:\", accuracy_score(y_test, y_pred_KNN))\n",
    "print(\"Classification Report:\")\n",
    "print(classification_report(y_test, y_pred_KNN))"
   ]
  },
  {
   "cell_type": "code",
   "execution_count": 110,
   "id": "f6034230-1c46-4c95-af2d-8316fbfc585a",
   "metadata": {},
   "outputs": [
    {
     "data": {
      "image/png": "[encoded data removed]",
      "text/plain": [
       "<Figure size 640x480 with 1 Axes>"
      ]
     },
     "metadata": {},
     "output_type": "display_data"
    }
   ],
   "source": [
    "# Define the accuracy scores\n",
    "accuracy_scores = {\n",
    "    'Logistic Regression': accuracy_score(y_test, y_pred_LR),\n",
    "    'Decision Tree Classifier': accuracy_score(y_test, y_pred_DT),\n",
    "    'Random Forest Classifier': accuracy_score(y_test, y_pred_RF),\n",
    "    'Support Vector Machine (SVM)': accuracy_score(y_test, y_pred_SVM),\n",
    "    'k-Nearest Neighbors (k-NN)': accuracy_score(y_test, y_pred_KNN)\n",
    "}\n",
    "sorted_accuracy_scores = dict(sorted(accuracy_scores.items(), key=lambda item: item[1]) )# key=lambda item: item[1] sorting is based on the values rather than the keys\n",
    "# Create a bar chart\n",
    "sns.barplot(x=sorted_accuracy_scores.keys(),y=sorted_accuracy_scores.values(),data=sorted_accuracy_scores,hue=accuracy_scores.keys(),palette=\"plasma\")\n",
    "plt.xlabel('Classification Algorithm')\n",
    "plt.ylabel('Accuracy')\n",
    "plt.title('Accuracy of Classification Algorithms')\n",
    "plt.legend(loc='upper left', bbox_to_anchor=(1, 1)) #legend loc outside top right corner\n",
    "\n",
    "plt.xticks(rotation=90)  # Rotate the x-axis labels for better readability\n",
    "plt.show()"
   ]
  },
  {
   "cell_type": "code",
   "execution_count": 111,
   "id": "698d636a-ffe2-47f8-b098-0e6ab2e19003",
   "metadata": {},
   "outputs": [
    {
     "data": {
      "image/png": "[encoded data removed]",
      "text/plain": [
       "<Figure size 640x480 with 1 Axes>"
      ]
     },
     "metadata": {},
     "output_type": "display_data"
    }
   ],
   "source": [
    "plt.pie(x=accuracy_scores.values(),labels=accuracy_scores.keys(),colors=[\"yellow\", \"pink\", \"green\", \"orange\",\"red\"], autopct=\"%1.1f%%\")\n",
    "plt.title(\"Supervised Classification Algorithms\")\n",
    "plt.show()\n"
   ]
  },
  {
   "cell_type": "code",
   "execution_count": 112,
   "id": "a5bcfa3b-6a74-4024-bd2a-d589d49dad2d",
   "metadata": {},
   "outputs": [
    {
     "data": {
      "text/plain": [
       "'Summary of Model Performance\\n\\nRanking by Accuracy:\\n\\n1.Logistic Regression: 97.37% (Best)\\n\\n2.Random Forest Classifier: 96.49%\\n\\n3.Support Vector Machine (SVM): 95.61%\\n\\n4.Decision Tree Classifier: 94.74%\\n\\n5.k-Nearest Neighbors (k-NN): 94.74% (Worst)\\n\\nBest Model:\\n\\nLogistic Regression achieved the highest accuracy (97.37%) with well-balanced precision, recall, and F1-score.\\n\\nWorst Models:\\n\\nDecision Tree Classifier and k-NN had the lowest accuracy (94.74%), possibly due to overfitting (Decision Tree) and sensitivity to scaling and parameter selection (k-NN).\\n\\nComparison of Performance Metrics\\n\\nAlgorithm\\tAccuracy\\tPrecision\\tRecall\\tF1-score\\nLogistic Regression\\t0.9737\\t0.98\\t0.95\\t0.97\\nRandom Forest Classifier\\t0.9649\\t0.98\\t0.93\\t0.96\\nSupport Vector Machine (SVM)\\t0.9561\\t0.97\\t0.96\\t0.96\\nDecision Tree Classifier\\t0.9474\\t0.96\\t0.93\\t0.94\\nk-Nearest Neighbors (k-NN)\\t0.9474\\t0.96\\t0.93\\t0.94\\nConclusion\\n\\nLogistic Regression performed the best among the five algorithms, with an accuracy score of 0.9737. k-Nearest Neighbors (k-NN) and Decision Tree Classifier performed the worst, with accuracy scores of 0.9474. \\nRandom Forest Classifier and Support Vector Machine (SVM) had accuracy scores in between.'"
      ]
     },
     "execution_count": 112,
     "metadata": {},
     "output_type": "execute_result"
    }
   ],
   "source": [
    "\"\"\"Summary of Model Performance\n",
    "\n",
    "Ranking by Accuracy:\n",
    "\n",
    "1.Logistic Regression: 97.37% (Best)\n",
    "\n",
    "2.Random Forest Classifier: 96.49%\n",
    "\n",
    "3.Support Vector Machine (SVM): 95.61%\n",
    "\n",
    "4.Decision Tree Classifier: 94.74%\n",
    "\n",
    "5.k-Nearest Neighbors (k-NN): 94.74% (Worst)\n",
    "\n",
    "Best Model:\n",
    "\n",
    "Logistic Regression achieved the highest accuracy (97.37%) with well-balanced precision, recall, and F1-score.\n",
    "\n",
    "Worst Models:\n",
    "\n",
    "Decision Tree Classifier and k-NN had the lowest accuracy (94.74%), possibly due to overfitting (Decision Tree) and sensitivity to scaling and parameter selection (k-NN).\n",
    "\n",
    "Comparison of Performance Metrics\n",
    "\n",
    "Algorithm\tAccuracy\tPrecision\tRecall\tF1-score\n",
    "Logistic Regression\t0.9737\t0.98\t0.95\t0.97\n",
    "Random Forest Classifier\t0.9649\t0.98\t0.93\t0.96\n",
    "Support Vector Machine (SVM)\t0.9561\t0.97\t0.96\t0.96\n",
    "Decision Tree Classifier\t0.9474\t0.96\t0.93\t0.94\n",
    "k-Nearest Neighbors (k-NN)\t0.9474\t0.96\t0.93\t0.94\n",
    "Conclusion\n",
    "\n",
    "Logistic Regression performed the best among the five algorithms, with an accuracy score of 0.9737. k-Nearest Neighbors (k-NN) and Decision Tree Classifier performed the worst, with accuracy scores of 0.9474. \n",
    "Random Forest Classifier and Support Vector Machine (SVM) had accuracy scores in between.\"\"\""
   ]
  },
  {
   "cell_type": "code",
   "execution_count": null,
   "id": "8694aa43-8c46-4fa7-8ba3-4b77b91ef7fd",
   "metadata": {},
   "outputs": [],
   "source": []
  }
 ],
 "metadata": {
  "kernelspec": {
   "display_name": "Python 3 (ipykernel)",
   "language": "python",
   "name": "python3"
  },
  "language_info": {
   "codemirror_mode": {
    "name": "ipython",
    "version": 3
   },
   "file_extension": ".py",
   "mimetype": "text/x-python",
   "name": "python",
   "nbconvert_exporter": "python",
   "pygments_lexer": "ipython3",
   "version": "3.12.4"
  }
 },
 "nbformat": 4,
 "nbformat_minor": 5
}
